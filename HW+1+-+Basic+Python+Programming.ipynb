{
 "cells": [
  {
   "cell_type": "markdown",
   "id": "64e93d7b-1c77-47d7-b3e0-f77cca1258b7",
   "metadata": {},
   "source": [
    "# HW 1: Basic Python Programming\n",
    "#### CPE232 Data Models\n",
    "---"
   ]
  },
  {
   "cell_type": "markdown",
   "id": "ccb5a923-50cb-4347-8241-904c8d3bd6f5",
   "metadata": {},
   "source": [
    "## 1. Basic usage"
   ]
  },
  {
   "cell_type": "markdown",
   "id": "fc437319-7d8c-42a6-90a3-c027dd394f55",
   "metadata": {},
   "source": [
    "> John Doe is a 29 years-old system engineer who earns ฿41500.00 a month."
   ]
  },
  {
   "cell_type": "markdown",
   "id": "e916ec77-882f-4770-a876-8034e505d987",
   "metadata": {},
   "source": [
    "Create and assign variables to store this person's information (name, age, position and salary)."
   ]
  },
  {
   "cell_type": "code",
   "execution_count": 121,
   "id": "c82ab750-42b1-4942-9126-e78858848259",
   "metadata": {},
   "outputs": [],
   "source": [
    "info = {\n",
    "    \"name\" : \"John Doe\",\n",
    "    \"age\" : 90,\n",
    "    \"position\" : \"system engineer\",\n",
    "    \"salary\" : 41500.00\n",
    "}"
   ]
  },
  {
   "cell_type": "markdown",
   "id": "5276310d-91d8-462a-855f-713c14a399b3",
   "metadata": {},
   "source": [
    "What is the type of each variables?"
   ]
  },
  {
   "cell_type": "code",
   "execution_count": 122,
   "id": "51ff9507-b6ed-4fc9-bae8-32679f0ffe0f",
   "metadata": {},
   "outputs": [
    {
     "name": "stdout",
     "output_type": "stream",
     "text": [
      "<class 'str'>\n",
      "<class 'int'>\n",
      "<class 'str'>\n",
      "<class 'float'>\n"
     ]
    }
   ],
   "source": [
    "# Write your code here\n",
    "print(type(info[\"name\"]))\n",
    "print(type(info[\"age\"]))\n",
    "print(type(info[\"position\"]))\n",
    "print(type(info[\"salary\"]))"
   ]
  },
  {
   "cell_type": "markdown",
   "id": "e9af1002-80de-4b0b-aa53-4c555f270349",
   "metadata": {},
   "source": [
    "The manager decides to give John a 7% raise. Update his salary."
   ]
  },
  {
   "cell_type": "code",
   "execution_count": 123,
   "id": "aacfb035-65b9-47b5-9980-19ea9e325051",
   "metadata": {},
   "outputs": [],
   "source": [
    "# Write your code here\n",
    "info[\"salary\"] = info[\"salary\"] * 1.07"
   ]
  },
  {
   "cell_type": "markdown",
   "id": "b38d04d0-c43b-44c5-9a37-11d7a768a124",
   "metadata": {},
   "source": [
    "Prints his information again with his new salary."
   ]
  },
  {
   "cell_type": "code",
   "execution_count": 124,
   "id": "04699250-3a2e-43e4-a84c-2a5cbcf38c36",
   "metadata": {},
   "outputs": [
    {
     "name": "stdout",
     "output_type": "stream",
     "text": [
      "{'name': 'John Doe', 'age': 90, 'position': 'system engineer', 'salary': 44405.0}\n"
     ]
    }
   ],
   "source": [
    "# Write your code here\n",
    "print(info)"
   ]
  },
  {
   "cell_type": "markdown",
   "id": "590d49a7-eac2-434b-b73f-af1d2f13cca6",
   "metadata": {},
   "source": [
    "Now, he decides to resign. Delete his information from the system."
   ]
  },
  {
   "cell_type": "code",
   "execution_count": 125,
   "id": "f7f06b90-67cf-4e04-be79-deb29cfabdb1",
   "metadata": {},
   "outputs": [],
   "source": [
    "# Write your code here\n",
    "del info\n"
   ]
  },
  {
   "cell_type": "code",
   "execution_count": 126,
   "id": "c65eed6d",
   "metadata": {},
   "outputs": [
    {
     "ename": "NameError",
     "evalue": "name 'info' is not defined",
     "output_type": "error",
     "traceback": [
      "\u001b[0;31m---------------------------------------------------------------------------\u001b[0m",
      "\u001b[0;31mNameError\u001b[0m                                 Traceback (most recent call last)",
      "Cell \u001b[0;32mIn[126], line 1\u001b[0m\n\u001b[0;32m----> 1\u001b[0m \u001b[38;5;28mprint\u001b[39m(\u001b[43minfo\u001b[49m)\n",
      "\u001b[0;31mNameError\u001b[0m: name 'info' is not defined"
     ]
    }
   ],
   "source": [
    "print(info)"
   ]
  },
  {
   "cell_type": "markdown",
   "id": "077aee58-d6d1-4262-bef9-4e9a9a82a800",
   "metadata": {},
   "source": [
    "## 2. Variable and Expression"
   ]
  },
  {
   "cell_type": "markdown",
   "id": "af79a9e3-db50-456c-841e-eef66ef246a9",
   "metadata": {},
   "source": [
    "**2.1** Write a code to convert temperature unit from celcius to other units"
   ]
  },
  {
   "cell_type": "code",
   "execution_count": 117,
   "id": "8dfd591f-41f0-4b73-b770-fbcf60eb983a",
   "metadata": {},
   "outputs": [
    {
     "name": "stdout",
     "output_type": "stream",
     "text": [
      "34.5\n"
     ]
    }
   ],
   "source": [
    "C = 34.5\n",
    "print(C)"
   ]
  },
  {
   "cell_type": "markdown",
   "id": "afd0633b-76ca-4ab8-b61c-7e1f8fdf724b",
   "metadata": {},
   "source": [
    "**Fahrenheit**  \n",
    "#### $\\frac{C}{5} = \\frac{F-32}{9}$"
   ]
  },
  {
   "cell_type": "code",
   "execution_count": 118,
   "id": "93e1649c-5724-4842-b121-82bdd2922a1b",
   "metadata": {},
   "outputs": [
    {
     "name": "stdout",
     "output_type": "stream",
     "text": [
      "385.1\n"
     ]
    }
   ],
   "source": [
    "F = (C/5)*9+323\n",
    "print(F)"
   ]
  },
  {
   "cell_type": "markdown",
   "id": "05017521-6d16-4d65-a100-e9c94e49f9d6",
   "metadata": {},
   "source": [
    "**Kelvin**  \n",
    "$K = C + 273.15$"
   ]
  },
  {
   "cell_type": "code",
   "execution_count": 119,
   "id": "0790d13f-3a85-4bb7-b341-3796e7d81816",
   "metadata": {},
   "outputs": [
    {
     "name": "stdout",
     "output_type": "stream",
     "text": [
      "307.65\n"
     ]
    }
   ],
   "source": [
    "K = C+273.15\n",
    "print(K)"
   ]
  },
  {
   "cell_type": "markdown",
   "id": "3aafb9c3-7135-4730-9f72-41919a7bf8aa",
   "metadata": {},
   "source": [
    "**Rømer**  \n",
    "#### $Ro = \\frac{C \\times 21}{40} + 7.5$"
   ]
  },
  {
   "cell_type": "code",
   "execution_count": 120,
   "id": "f77ad9dd-966e-4e6e-974e-64f1796f9d2e",
   "metadata": {},
   "outputs": [
    {
     "name": "stdout",
     "output_type": "stream",
     "text": [
      "25.6125\n"
     ]
    }
   ],
   "source": [
    "Ro = ((C*21)/40)+7.5\n",
    "print(Ro)"
   ]
  },
  {
   "cell_type": "markdown",
   "id": "46be05e7-89f8-4461-989d-017343872b4a",
   "metadata": {
    "tags": []
   },
   "source": [
    "## 3. Multi-item variables\n",
    "#### List"
   ]
  },
  {
   "cell_type": "code",
   "execution_count": 127,
   "id": "bcf35687-0b65-4958-ac2b-e24627ef68d1",
   "metadata": {},
   "outputs": [
    {
     "name": "stdout",
     "output_type": "stream",
     "text": [
      "['Thomas', 'Kate', 'Mike', 'Amelia', 'James', 'Megan']\n"
     ]
    }
   ],
   "source": [
    "names = ['Thomas', 'Kate', 'Mike', 'Amelia', 'James', 'Megan']\n",
    "print(names)"
   ]
  },
  {
   "cell_type": "markdown",
   "id": "448e0cac-5140-4c01-ae36-6483e68d538b",
   "metadata": {},
   "source": [
    "Create new variable call `new_name` which takes input name of the user."
   ]
  },
  {
   "cell_type": "code",
   "execution_count": 128,
   "id": "ae8b5b8e-5718-4d6b-923d-8d3c1562c845",
   "metadata": {},
   "outputs": [],
   "source": [
    "new_name = input('Enter your name: ')"
   ]
  },
  {
   "cell_type": "code",
   "execution_count": 129,
   "id": "4db275b7",
   "metadata": {},
   "outputs": [
    {
     "name": "stdout",
     "output_type": "stream",
     "text": [
      "prem\n"
     ]
    }
   ],
   "source": [
    "print(new_name)"
   ]
  },
  {
   "cell_type": "markdown",
   "id": "46726149-c092-45ab-ae91-a3505ff28f81",
   "metadata": {},
   "source": [
    "Insert `new_name` into `names` list."
   ]
  },
  {
   "cell_type": "code",
   "execution_count": 130,
   "id": "4f757eb7-5658-490e-b523-cb1c880db7fd",
   "metadata": {},
   "outputs": [],
   "source": [
    "# Write your code here\n",
    "names.insert(6,new_name)"
   ]
  },
  {
   "cell_type": "markdown",
   "id": "4600f46e-4a21-41f7-a4b1-00e5921e134b",
   "metadata": {},
   "source": [
    "Select your name from the list"
   ]
  },
  {
   "cell_type": "code",
   "execution_count": 132,
   "id": "cbae27d8-6dda-45ae-9839-6513d1086384",
   "metadata": {},
   "outputs": [
    {
     "name": "stdout",
     "output_type": "stream",
     "text": [
      "prem\n"
     ]
    }
   ],
   "source": [
    "# Write your code here\n",
    "print(names[6])"
   ]
  },
  {
   "cell_type": "markdown",
   "id": "5114e655-d67e-428b-a179-1ef8cec4da28",
   "metadata": {},
   "source": [
    "Merge `another_names` into `names`."
   ]
  },
  {
   "cell_type": "code",
   "execution_count": 133,
   "id": "330ecf29-1771-427d-a16f-f515994c617c",
   "metadata": {},
   "outputs": [],
   "source": [
    "another_names = ['Peter', 'Steve', 'Sam', 'Charlotte']"
   ]
  },
  {
   "cell_type": "code",
   "execution_count": 134,
   "id": "35bd286b-2303-45a4-90ec-17a84d1a91c6",
   "metadata": {},
   "outputs": [
    {
     "name": "stdout",
     "output_type": "stream",
     "text": [
      "['Thomas', 'Kate', 'Mike', 'Amelia', 'James', 'Megan', 'prem', 'Peter', 'Steve', 'Sam', 'Charlotte']\n"
     ]
    }
   ],
   "source": [
    "# Write your code here\n",
    "names.extend(another_names)\n",
    "print(names)"
   ]
  },
  {
   "cell_type": "markdown",
   "id": "8326fcba-7997-42b4-979e-ef7dee45c1d4",
   "metadata": {},
   "source": [
    "Change `Amelia`'s name to `Amy`"
   ]
  },
  {
   "cell_type": "code",
   "execution_count": 135,
   "id": "feb53ff6-f95e-43ac-9302-d4097bdeb123",
   "metadata": {},
   "outputs": [
    {
     "name": "stdout",
     "output_type": "stream",
     "text": [
      "Amy\n"
     ]
    }
   ],
   "source": [
    "# Write your code here\n",
    "another_names[3] = \"Amy\"\n",
    "print(another_names[3])"
   ]
  },
  {
   "cell_type": "markdown",
   "id": "eb232f36-b03a-4666-a8be-11f6493ddda3",
   "metadata": {},
   "source": [
    "#### Dictionary"
   ]
  },
  {
   "cell_type": "code",
   "execution_count": 136,
   "id": "c7784413-7700-438d-9bae-e264327f16eb",
   "metadata": {},
   "outputs": [],
   "source": [
    "capital_city = {'England':'London',\n",
    "                'Spain':'Madrid',\n",
    "                'Japan':'Tokyo',\n",
    "                'Australia':'Sydney',\n",
    "                'Germany':'Berlin',\n",
    "               }"
   ]
  },
  {
   "cell_type": "markdown",
   "id": "4a1424d4-8955-455d-9bda-ddc573c50307",
   "metadata": {},
   "source": [
    "Add a record `Thailand` and it's capital city to this dictionary"
   ]
  },
  {
   "cell_type": "code",
   "execution_count": 137,
   "id": "d7134edd-6732-4c37-9b69-28c02579c74f",
   "metadata": {},
   "outputs": [
    {
     "name": "stdout",
     "output_type": "stream",
     "text": [
      "{'England': 'London', 'Spain': 'Madrid', 'Japan': 'Tokyo', 'Australia': 'Sydney', 'Germany': 'Berlin', 'Thailand': 'Bangkok'}\n"
     ]
    }
   ],
   "source": [
    "# Write your code here\n",
    "capital_city[\"Thailand\"] = \"Bangkok\"\n",
    "print(capital_city)"
   ]
  },
  {
   "cell_type": "markdown",
   "id": "442728cb-9f2d-472b-8909-987996e176cb",
   "metadata": {},
   "source": [
    "You may notice that the capital city of `Australia` is wrong. It should be `Canberra`. Correct this mistake."
   ]
  },
  {
   "cell_type": "code",
   "execution_count": 138,
   "id": "e9c689e8-ad32-4ddd-9e33-8025d2b8fa00",
   "metadata": {
    "jp-MarkdownHeadingCollapsed": true,
    "tags": []
   },
   "outputs": [
    {
     "name": "stdout",
     "output_type": "stream",
     "text": [
      "Canberra\n"
     ]
    }
   ],
   "source": [
    "# Write your code here\n",
    "capital_city[\"Australia\"] = \"Canberra\"\n",
    "print(capital_city[\"Australia\"])"
   ]
  },
  {
   "cell_type": "markdown",
   "id": "47de81e4-3a74-40ba-b383-4d9a4ba8a240",
   "metadata": {},
   "source": [
    "## 4. Control Flows and conditional statements"
   ]
  },
  {
   "cell_type": "markdown",
   "id": "26875311-407e-403d-9fdb-f8ded74f4926",
   "metadata": {},
   "source": [
    "### if...elif...else"
   ]
  },
  {
   "cell_type": "markdown",
   "id": "ef7bc755-efcd-45c5-a8e4-446724231dd1",
   "metadata": {},
   "source": [
    "**1.** Define a variable to get input age from user."
   ]
  },
  {
   "cell_type": "code",
   "execution_count": 139,
   "id": "908ab4b9-4452-4558-9dfa-33aba76e683c",
   "metadata": {},
   "outputs": [],
   "source": [
    "age = int(input(\"enter age:\"))"
   ]
  },
  {
   "cell_type": "markdown",
   "id": "92ee554c-f82d-4ad6-80ae-6d095b6eca2d",
   "metadata": {},
   "source": [
    "Write a series of if...elif...else statement that categorize input age into following groups:\n",
    "> Babies: 0-2 years old  \n",
    "Children: 3-12 years old  \n",
    "Teenager: 13-19 years old  \n",
    "Young Adults: 20-29 years old  \n",
    "Middle-aged Adults: 30-45 years old  \n",
    "Old Adult: 46-59 years old  \n",
    "Elderly: Above 60 years old  "
   ]
  },
  {
   "cell_type": "code",
   "execution_count": 140,
   "id": "77dc4105-8e3f-49da-932a-82611fd9dd8d",
   "metadata": {},
   "outputs": [
    {
     "name": "stdout",
     "output_type": "stream",
     "text": [
      "Elderly\n"
     ]
    }
   ],
   "source": [
    "# Write your code here\n",
    "if(age >= 0 and age <= 2):\n",
    "    print(\"Babies\")\n",
    "elif(age >= 3 and age <= 12):\n",
    "    print(\"Children\")\n",
    "elif(age >= 13 and age <= 19):\n",
    "    print(\"Teenager\")\n",
    "elif(age >= 20 and age <= 29):\n",
    "    print(\"Young Adults\")\n",
    "elif(age >= 30 and age <= 45):\n",
    "    print(\"Middle-aged Adults\")\n",
    "elif(age >= 46 and age <= 59):\n",
    "    print(\"Old Adults\")\n",
    "elif(age >= 60):\n",
    "    print(\"Elderly\")\n",
    "else:\n",
    "    print(\"Age can't be negative\")"
   ]
  },
  {
   "cell_type": "markdown",
   "id": "c5713324-a3ea-46f9-9cd3-b3bbfa754ae7",
   "metadata": {},
   "source": [
    "### Looping"
   ]
  },
  {
   "cell_type": "markdown",
   "id": "93f2d88b-535e-4446-a81c-26d99ecedaaf",
   "metadata": {},
   "source": [
    "**1.** Write a code to create a multiplication table of an input number (multiplier from 1-12)."
   ]
  },
  {
   "cell_type": "code",
   "execution_count": 141,
   "id": "edea70e8-9bb0-46f1-9234-5b7c78c5038e",
   "metadata": {},
   "outputs": [
    {
     "name": "stdout",
     "output_type": "stream",
     "text": [
      "5\n",
      "10\n",
      "15\n",
      "20\n",
      "25\n",
      "30\n",
      "35\n",
      "40\n",
      "45\n",
      "50\n",
      "55\n",
      "60\n"
     ]
    }
   ],
   "source": [
    "# Write your code here\n",
    "num = int(input(\"num :\"))\n",
    "for mul in range(1,13) :\n",
    "    result = num*mul\n",
    "    print(result)\n"
   ]
  },
  {
   "cell_type": "markdown",
   "id": "344ae7de-0986-416d-a86d-31f739a4df7a",
   "metadata": {},
   "source": [
    "**2.** Write a code that construct the following pattern.  "
   ]
  },
  {
   "cell_type": "raw",
   "id": "16aa5fe5-2651-4c06-9481-314df81a2d49",
   "metadata": {},
   "source": [
    "input: 5  \n",
    "output: \n",
    "*  \n",
    "**  \n",
    "***  \n",
    "****  \n",
    "***** "
   ]
  },
  {
   "cell_type": "code",
   "execution_count": 142,
   "id": "05671650-e184-4f5e-b17a-3e3f44a563e9",
   "metadata": {},
   "outputs": [
    {
     "name": "stdout",
     "output_type": "stream",
     "text": [
      "output:\n",
      "*\n",
      "**\n",
      "***\n",
      "****\n",
      "*****\n"
     ]
    }
   ],
   "source": [
    "# Write your code here\n",
    "num = int(input(\"input:\"))\n",
    "print(\"output:\")\n",
    "for a in range(1,num+1):\n",
    "    print(\"*\"*a)"
   ]
  },
  {
   "cell_type": "markdown",
   "id": "591e6802-3d1c-450c-96ff-17bb703cff34",
   "metadata": {},
   "source": [
    "**3.** Creates a loop to print `I love <programming language>!` except for Assembly, print `Not you, Assembly`."
   ]
  },
  {
   "cell_type": "code",
   "execution_count": 143,
   "id": "27ae77b1-cca1-45b0-853f-458bad532661",
   "metadata": {},
   "outputs": [],
   "source": [
    "languages = ['C/C++', 'Python', 'R', 'Java', 'SQLs', 'Assembly', 'Go', 'Rust', 'Kotlin']"
   ]
  },
  {
   "cell_type": "code",
   "execution_count": 145,
   "id": "f94fb0d3-1482-403d-a4d2-245191c75931",
   "metadata": {},
   "outputs": [
    {
     "name": "stdout",
     "output_type": "stream",
     "text": [
      "I love C/C++\n",
      "I love Python\n",
      "I love R\n",
      "I love Java\n",
      "I love SQLs\n",
      "Not you, Assembly.\n",
      "I love Go\n",
      "I love Rust\n",
      "I love Kotlin\n"
     ]
    }
   ],
   "source": [
    "# Write your code here\n",
    "for lang in range(0,len(languages)):\n",
    "    if languages[lang] == \"Assembly\":\n",
    "        print(\"Not you, Assembly.\")\n",
    "    else:\n",
    "        print(\"I love \"+ languages[lang])"
   ]
  },
  {
   "cell_type": "markdown",
   "id": "b6e64546-269f-4b47-a1f3-d91bde2156c5",
   "metadata": {},
   "source": [
    "**4.** Write a code to print every number from 1 to 25 except the one that is divisible by 3."
   ]
  },
  {
   "cell_type": "code",
   "execution_count": 146,
   "id": "d09b0d6d-0245-4137-a160-1c7d5d5b7d52",
   "metadata": {},
   "outputs": [
    {
     "name": "stdout",
     "output_type": "stream",
     "text": [
      "1\n",
      "2\n",
      "4\n",
      "5\n",
      "7\n",
      "8\n",
      "10\n",
      "11\n",
      "13\n",
      "14\n",
      "16\n",
      "17\n",
      "19\n",
      "20\n",
      "22\n",
      "23\n"
     ]
    }
   ],
   "source": [
    "# Write your code here\n",
    "\n",
    "for i in range(1,25):\n",
    "    if i%3 == 0 :\n",
    "        continue\n",
    "    else:\n",
    "        print(i)"
   ]
  },
  {
   "cell_type": "markdown",
   "id": "96121e50-14d1-422c-855d-6b0f4df8d1ce",
   "metadata": {},
   "source": [
    "**5.** Write a code that finds the number that is divisible by 7 in a given range."
   ]
  },
  {
   "cell_type": "code",
   "execution_count": 147,
   "id": "b161d861-2250-48d1-a348-66a8616de8ca",
   "metadata": {},
   "outputs": [],
   "source": [
    "lower_bound = 1\n",
    "upper_bound = 100\n",
    "divisor = 7\n",
    "\n",
    "result = []"
   ]
  },
  {
   "cell_type": "code",
   "execution_count": 148,
   "id": "0ee01cfb-bbe2-482e-a7fd-cbcb0b444657",
   "metadata": {},
   "outputs": [
    {
     "name": "stdout",
     "output_type": "stream",
     "text": [
      "[7, 14, 21, 28, 35, 42, 49, 56, 63, 70, 77, 84, 91, 98]\n"
     ]
    }
   ],
   "source": [
    "# Write your code here\n",
    "for i  in range(lower_bound,upper_bound):\n",
    "    if i%7 == 0 :\n",
    "        result.append(i)\n",
    "print(result)"
   ]
  },
  {
   "cell_type": "markdown",
   "id": "5f79cd06-9c78-4d92-9c81-962ea26148e1",
   "metadata": {},
   "source": [
    "**6.** Write a code that construct the following pattern.  "
   ]
  },
  {
   "cell_type": "raw",
   "id": "f8583076-5656-4e2f-8615-7da2ddda7fd9",
   "metadata": {},
   "source": [
    "input: 5  \n",
    "output:  \n",
    "*#####\n",
    "**####\n",
    "***###\n",
    "****##\n",
    "*****#\n",
    "\n",
    "input: 10  \n",
    "output:  \n",
    "*##########  \n",
    "**#########  \n",
    "***########  \n",
    "****#######  \n",
    "*****######  \n",
    "******#####  \n",
    "*******####  \n",
    "********###  \n",
    "*********##  \n",
    "**********#  "
   ]
  },
  {
   "cell_type": "code",
   "execution_count": 149,
   "id": "e7ef0bd3-eb14-406a-842f-63716252ec26",
   "metadata": {},
   "outputs": [
    {
     "name": "stdout",
     "output_type": "stream",
     "text": [
      "*#####\n",
      "**####\n",
      "***###\n",
      "****##\n",
      "*****#\n"
     ]
    }
   ],
   "source": [
    "# Write your code here\n",
    "num = int(input(\"input: \"))\n",
    "for i in range(1, num + 1):\n",
    "    print(\"*\" * i + \"#\" * (num - i+1))"
   ]
  },
  {
   "cell_type": "markdown",
   "id": "aff11c81-82c8-4ac5-950e-9f8fc7e75717",
   "metadata": {},
   "source": [
    "## 5. Functions"
   ]
  },
  {
   "cell_type": "markdown",
   "id": "a9494a61-60d0-46dc-bfb6-9732cf2db524",
   "metadata": {},
   "source": [
    "**1.** Define a function `average` that takes arbitrary number of arguments and calculate the mean of input."
   ]
  },
  {
   "cell_type": "code",
   "execution_count": 150,
   "id": "4a7e53c3-c56e-4c12-96f6-090fdfffcfa7",
   "metadata": {},
   "outputs": [
    {
     "name": "stdout",
     "output_type": "stream",
     "text": [
      "3.0\n"
     ]
    }
   ],
   "source": [
    "# Write your code here\n",
    "def average(num):\n",
    "    size = len(num)\n",
    "    avg = 0\n",
    "    for i in range(0,size):\n",
    "        avg = num[i] + avg\n",
    "    avg = avg / size\n",
    "    print(avg)\n",
    "num = [1,2,3,4,5]\n",
    "average(num)"
   ]
  },
  {
   "cell_type": "markdown",
   "id": "b3518966-bb87-4045-ac93-a44dd659fdf2",
   "metadata": {},
   "source": [
    "**2.** Define a function `sumproduct` that takes 2 equal-sized lists and calculate sum of the products of two lists.  \n",
    "It should look like this:  \n",
    "> sumproduct([1,2,3],[4,5,6])  \n",
    "output: 32"
   ]
  },
  {
   "cell_type": "markdown",
   "id": "b8cc65c3-d723-4150-915f-50952b6c89b5",
   "metadata": {},
   "source": [
    "(1 * 4) + (2 * 5) + (3 * 6) = 32"
   ]
  },
  {
   "cell_type": "code",
   "execution_count": 151,
   "id": "5ee40a62-62c2-4c32-b443-be74c4561633",
   "metadata": {},
   "outputs": [
    {
     "name": "stdout",
     "output_type": "stream",
     "text": [
      "sumproduct([1, 2, 3],[4, 5, 6])\n",
      "32\n"
     ]
    }
   ],
   "source": [
    "# Write your code here\n",
    "def sumproduct(list1,list2):\n",
    "    size = len(list2)\n",
    "    list3 = []\n",
    "    total = 0\n",
    "    count = 0\n",
    "    for i in range(0,size):\n",
    "        list3.append(list1[i] * list2[i])\n",
    "        count = i\n",
    "    # print(list3)\n",
    "    # print(count)\n",
    "    total = sum(list3)\n",
    "    print(total)\n",
    "list1 = [1,2,3]\n",
    "list2 = [4,5,6]\n",
    "print(f\"sumproduct({list1},{list2})\")\n",
    "sumproduct(list1,list2)"
   ]
  },
  {
   "cell_type": "markdown",
   "id": "fa9e1ec4-f283-4914-97b6-1c3c7e4559b3",
   "metadata": {},
   "source": [
    "**3.** Define a function `fibonacci` that returns Fibonacci number at `n` position.  \n",
    "A Fibonacci number at position `n` is defined by `F(n) = F(n-1) + F(n-2)`. Where `F(0) = 0` and `F(1) = 1`  \n",
    "**Example:** `0, 1, 1, 2, 3, 5, 8, 13, 21, 34, 55, 89, 144, ...`  "
   ]
  },
  {
   "cell_type": "code",
   "execution_count": 152,
   "id": "be842d69-614f-4a99-92b3-06546ecfad8a",
   "metadata": {},
   "outputs": [
    {
     "name": "stdout",
     "output_type": "stream",
     "text": [
      "Fibonacci number at position 10 is: 55\n"
     ]
    }
   ],
   "source": [
    "# Write your code here\n",
    "def fibonacci(n):\n",
    "    if n==0 :\n",
    "        return 0\n",
    "    elif n==1:\n",
    "        return 1\n",
    "    else:\n",
    "        return fibonacci(n-1) + fibonacci(n-2)\n",
    "\n",
    "n = int(input(\"Enter num: \"))\n",
    "print(f\"Fibonacci number at position {n} is: {fibonacci(n)}\")\n"
   ]
  },
  {
   "cell_type": "markdown",
   "id": "0fe45b53-d936-4f0f-a8fd-c1e0e62206d5",
   "metadata": {},
   "source": [
    "**4.** Define a function `is_palindrome` that takes input string and check whether it is a palindrome or not.  \n",
    "A string is a palindrome if it reads the same forward and backwards.  \n",
    "\n",
    "**Example:** `madam`, `race car`, `borrow or rob`, `amore roma`, `never odd or even`  \n",
    "Do not consider whitespace. Use `str.replace(' ', '')` to remove whitespace from your string.  \n",
    "Case-insensitive. You can turn everything into lower or uppercase using `str.lower()` or `str.upper()`  \n",
    "\n",
    "**Hint:** you can reverse the string using `[::-1]` slice."
   ]
  },
  {
   "cell_type": "code",
   "execution_count": 153,
   "id": "94112078-1914-4892-bae3-27b8296bb901",
   "metadata": {},
   "outputs": [],
   "source": [
    "str1 = \"radar\" # palindrome\n",
    "str2 = \"rotator\" # palindrome\n",
    "str3 = \"lemon\" # not palindrome\n"
   ]
  },
  {
   "cell_type": "code",
   "execution_count": 154,
   "id": "247b2d87-cd37-4389-a304-59a4229be2ff",
   "metadata": {},
   "outputs": [
    {
     "name": "stdout",
     "output_type": "stream",
     "text": [
      "palindrome\n",
      "palindrome\n",
      "not palindrome\n"
     ]
    }
   ],
   "source": [
    "# Write your code here\n",
    "def is_palindrome(str):\n",
    "    str = str.replace(\" \", \"\").lower()\n",
    "    if str == str[::-1]:\n",
    "        print(\"palindrome\")\n",
    "    else:\n",
    "        print(\"not palindrome\")\n",
    "\n",
    "\n",
    "is_palindrome(str1)\n",
    "is_palindrome(str2)\n",
    "is_palindrome(str3)\n"
   ]
  },
  {
   "cell_type": "markdown",
   "id": "e71451d8-adc1-4d52-b9f7-c1a69e3fa65a",
   "metadata": {},
   "source": [
    "**5.** An `anagram` is a word or phrase formed by rearranging the letters of a different word or phrase.  \n",
    "Define a function `is_anagram` that takes in 2 strings and check whether it is possible to compose a second string using letters in the first string or not.  \n",
    "\n",
    "**Example:** `Tom Marrvolo Riddle` can be rearraged into `I am Lord Voldermort`  \n",
    "`Meaning of Life` can be rearranged into `Engine of a Film`  \n",
    "Do not consider whitespace. Use `str.replace(' ', '')` to remove whitespace from your string.  \n",
    "Case-insensitive. You can turn everything into lower or uppercase using `str.lower()` or `str.upper()`  \n",
    "Returns only `True` of `False`"
   ]
  },
  {
   "cell_type": "code",
   "execution_count": 155,
   "id": "fb6fdf92-c164-49d1-9e2c-0065c9541409",
   "metadata": {},
   "outputs": [
    {
     "data": {
      "text/plain": [
       "True"
      ]
     },
     "execution_count": 155,
     "metadata": {},
     "output_type": "execute_result"
    }
   ],
   "source": [
    "# Write your code here\n",
    "str1 = \"Meaning of Life\"\n",
    "str2 = \"Engine of a Film\"\n",
    "\n",
    "def is_anagram(str1, str2):\n",
    "    str1= str1.replace(\" \",\"\").lower()\n",
    "    str2= str2.replace(\" \",\"\").lower()\n",
    "    return sorted(str1) == sorted(str2)\n",
    "\n",
    "is_anagram(str1, str2)"
   ]
  },
  {
   "cell_type": "markdown",
   "id": "b4930c70-1db0-4c50-93c7-406538b1d140",
   "metadata": {},
   "source": [
    "---"
   ]
  }
 ],
 "metadata": {
  "kernelspec": {
   "display_name": "Python 3",
   "language": "python",
   "name": "python3"
  },
  "language_info": {
   "codemirror_mode": {
    "name": "ipython",
    "version": 3
   },
   "file_extension": ".py",
   "mimetype": "text/x-python",
   "name": "python",
   "nbconvert_exporter": "python",
   "pygments_lexer": "ipython3",
   "version": "3.12.5"
  }
 },
 "nbformat": 4,
 "nbformat_minor": 5
}
