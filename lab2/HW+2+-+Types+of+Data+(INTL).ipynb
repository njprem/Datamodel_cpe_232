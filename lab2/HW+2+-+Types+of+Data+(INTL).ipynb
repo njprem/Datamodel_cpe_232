{
  "cells": [
    {
      "cell_type": "markdown",
      "metadata": {},
      "source": [
        "# HW 2: Types of Data\n",
        "#### CPE232 Data Models\n",
        "---"
      ]
    },
    {
      "cell_type": "markdown",
      "metadata": {
        "id": "_C6sD6-IERJG"
      },
      "source": [
        "# Import Dependency"
      ]
    },
    {
      "cell_type": "code",
      "execution_count": 78,
      "metadata": {
        "id": "rJMe-tyMEQ4p"
      },
      "outputs": [],
      "source": [
        "import pandas as pd\n",
        "import matplotlib.pyplot as plt"
      ]
    },
    {
      "cell_type": "markdown",
      "metadata": {
        "id": "M7gVXcwzF8gv"
      },
      "source": [
        "# Part 1 : Basic Python"
      ]
    },
    {
      "cell_type": "markdown",
      "metadata": {
        "id": "ZizA7iWUGEJ6"
      },
      "source": [
        "## Task 1"
      ]
    },
    {
      "cell_type": "markdown",
      "metadata": {
        "id": "gWtiOdZ3GHHx"
      },
      "source": [
        "Perform the following:\n",
        "- Write a program to get input of different types from the user. \n",
        "- Display type of each variable.\n",
        "- Convert a variable of the type float to Integer.\n",
        "- Demonstrate a comparison of before vs after the type conversion."
      ]
    },
    {
      "cell_type": "code",
      "execution_count": 79,
      "metadata": {
        "id": "kfNoLb-FF-m5"
      },
      "outputs": [],
      "source": [
        "# Input values from the user\n",
        "string_value = input(\"Enter a string: \")\n",
        "integer_value = int(input(\"Enter an integer: \"))\n",
        "float_value = float(input(\"Enter a float: \"))"
      ]
    },
    {
      "cell_type": "code",
      "execution_count": 80,
      "metadata": {
        "id": "NEb5FRMzGYlP"
      },
      "outputs": [
        {
          "name": "stdout",
          "output_type": "stream",
          "text": [
            "<class 'str'>\n",
            "<class 'int'>\n",
            "<class 'float'>\n"
          ]
        }
      ],
      "source": [
        "# Display the data types\n",
        "print(type(string_value))\n",
        "print(type(integer_value))\n",
        "print(type(float_value))"
      ]
    },
    {
      "cell_type": "code",
      "execution_count": 81,
      "metadata": {
        "id": "r1YAS93cGn1W"
      },
      "outputs": [],
      "source": [
        "# Convert integer to float and vice versa\n",
        "new_int = int(float_value)\n",
        "new_float = float(integer_value)"
      ]
    },
    {
      "cell_type": "code",
      "execution_count": 82,
      "metadata": {
        "id": "vkQwFOH0GBHq"
      },
      "outputs": [
        {
          "name": "stdout",
          "output_type": "stream",
          "text": [
            "3.14237\n",
            "3\n",
            "24\n",
            "24.0\n"
          ]
        }
      ],
      "source": [
        "# Show before and after convert float to int\n",
        "print(float_value)\n",
        "print(new_int)\n",
        "print(integer_value)\n",
        "print(new_float)"
      ]
    },
    {
      "cell_type": "markdown",
      "metadata": {
        "id": "V6rZQ_mKGxV6"
      },
      "source": [
        "## Task 2"
      ]
    },
    {
      "cell_type": "markdown",
      "metadata": {
        "id": "1ytsZGx5Gzyk"
      },
      "source": [
        "Given a dictionary of students with their scores, find the average score of each student across all subjects and identify the student with the highest average score."
      ]
    },
    {
      "cell_type": "code",
      "execution_count": 83,
      "metadata": {
        "id": "kze1CuNGHIXB"
      },
      "outputs": [],
      "source": [
        "students_grades = {\n",
        "    \"John\": [85, 90, 78],\n",
        "    \"Alice\": [88, 92, 80],\n",
        "    \"Bob\": [75, 85, 72],\n",
        "    \"Diana\": [90, 95, 94],\n",
        "    \"Charlie\": [70, 65, 80]\n",
        "}"
      ]
    },
    {
      "cell_type": "code",
      "execution_count": 84,
      "metadata": {
        "id": "wGO6J-owHLeG"
      },
      "outputs": [
        {
          "name": "stdout",
          "output_type": "stream",
          "text": [
            "{'John': 84.33333333333333, 'Alice': 86.66666666666667, 'Bob': 77.33333333333333, 'Diana': 93.0, 'Charlie': 71.66666666666667}\n"
          ]
        }
      ],
      "source": [
        "# Calculate and print the average grade for each student\n",
        "student_avg = {}\n",
        "for name , score in students_grades.items():\n",
        "    student_avg[name] = sum(score) / len(score)\n",
        "print(student_avg)"
      ]
    },
    {
      "cell_type": "code",
      "execution_count": 85,
      "metadata": {
        "id": "erBdHagTHMZ1"
      },
      "outputs": [
        {
          "name": "stdout",
          "output_type": "stream",
          "text": [
            "Diana\n"
          ]
        }
      ],
      "source": [
        "# Find the student with the highest average grade\n",
        "most_score = 0\n",
        "top_student = \"\"\n",
        "for name , score in student_avg.items():\n",
        "    if score > most_score:\n",
        "        most_score = score\n",
        "        top_student = name\n",
        "    else :\n",
        "        continue\n",
        "print(top_student)"
      ]
    },
    {
      "cell_type": "markdown",
      "metadata": {
        "id": "vedd5LajDZpc"
      },
      "source": [
        "# Part 2 : Working with CSV!"
      ]
    },
    {
      "cell_type": "markdown",
      "metadata": {
        "id": "-SunXx4IEcNa"
      },
      "source": [
        "Add a new column to this CSV file named \"Bonus,\" and calculate the bonus for employees in the Sales department as 10% of their MonthlyRate."
      ]
    },
    {
      "cell_type": "code",
      "execution_count": 86,
      "metadata": {
        "id": "5K7zeMGTBMBq"
      },
      "outputs": [],
      "source": [
        "# Load the CSV file\n",
        "file_path = 'employee_data.csv'\n",
        "df = pd.read_csv(file_path)"
      ]
    },
    {
      "cell_type": "code",
      "execution_count": 87,
      "metadata": {
        "colab": {
          "base_uri": "https://localhost:8080/",
          "height": 206
        },
        "id": "SayuQhbgFEkZ",
        "outputId": "7810d610-bf4c-49fe-8723-ba6f9adb323d"
      },
      "outputs": [
        {
          "data": {
            "text/html": [
              "<div>\n",
              "<style scoped>\n",
              "    .dataframe tbody tr th:only-of-type {\n",
              "        vertical-align: middle;\n",
              "    }\n",
              "\n",
              "    .dataframe tbody tr th {\n",
              "        vertical-align: top;\n",
              "    }\n",
              "\n",
              "    .dataframe thead th {\n",
              "        text-align: right;\n",
              "    }\n",
              "</style>\n",
              "<table border=\"1\" class=\"dataframe\">\n",
              "  <thead>\n",
              "    <tr style=\"text-align: right;\">\n",
              "      <th></th>\n",
              "      <th>Age</th>\n",
              "      <th>DailyRate</th>\n",
              "      <th>Department</th>\n",
              "      <th>EducationField</th>\n",
              "      <th>Gender</th>\n",
              "      <th>MaritalStatus</th>\n",
              "      <th>MonthlyRate</th>\n",
              "      <th>OverTime</th>\n",
              "    </tr>\n",
              "  </thead>\n",
              "  <tbody>\n",
              "    <tr>\n",
              "      <th>0</th>\n",
              "      <td>41</td>\n",
              "      <td>1102</td>\n",
              "      <td>Sales</td>\n",
              "      <td>Life Sciences</td>\n",
              "      <td>Female</td>\n",
              "      <td>Single</td>\n",
              "      <td>19479</td>\n",
              "      <td>Yes</td>\n",
              "    </tr>\n",
              "    <tr>\n",
              "      <th>1</th>\n",
              "      <td>49</td>\n",
              "      <td>279</td>\n",
              "      <td>Research &amp; Development</td>\n",
              "      <td>Life Sciences</td>\n",
              "      <td>Male</td>\n",
              "      <td>Married</td>\n",
              "      <td>24907</td>\n",
              "      <td>No</td>\n",
              "    </tr>\n",
              "    <tr>\n",
              "      <th>2</th>\n",
              "      <td>37</td>\n",
              "      <td>1373</td>\n",
              "      <td>Research &amp; Development</td>\n",
              "      <td>Other</td>\n",
              "      <td>Male</td>\n",
              "      <td>Single</td>\n",
              "      <td>2396</td>\n",
              "      <td>Yes</td>\n",
              "    </tr>\n",
              "    <tr>\n",
              "      <th>3</th>\n",
              "      <td>33</td>\n",
              "      <td>1392</td>\n",
              "      <td>Research &amp; Development</td>\n",
              "      <td>Life Sciences</td>\n",
              "      <td>Female</td>\n",
              "      <td>Married</td>\n",
              "      <td>23159</td>\n",
              "      <td>Yes</td>\n",
              "    </tr>\n",
              "    <tr>\n",
              "      <th>4</th>\n",
              "      <td>27</td>\n",
              "      <td>591</td>\n",
              "      <td>Research &amp; Development</td>\n",
              "      <td>Medical</td>\n",
              "      <td>Male</td>\n",
              "      <td>Married</td>\n",
              "      <td>16632</td>\n",
              "      <td>No</td>\n",
              "    </tr>\n",
              "  </tbody>\n",
              "</table>\n",
              "</div>"
            ],
            "text/plain": [
              "   Age  DailyRate              Department EducationField  Gender  \\\n",
              "0   41       1102                   Sales  Life Sciences  Female   \n",
              "1   49        279  Research & Development  Life Sciences    Male   \n",
              "2   37       1373  Research & Development          Other    Male   \n",
              "3   33       1392  Research & Development  Life Sciences  Female   \n",
              "4   27        591  Research & Development        Medical    Male   \n",
              "\n",
              "  MaritalStatus  MonthlyRate OverTime  \n",
              "0        Single        19479      Yes  \n",
              "1       Married        24907       No  \n",
              "2        Single         2396      Yes  \n",
              "3       Married        23159      Yes  \n",
              "4       Married        16632       No  "
            ]
          },
          "execution_count": 87,
          "metadata": {},
          "output_type": "execute_result"
        }
      ],
      "source": [
        "df.head()"
      ]
    },
    {
      "cell_type": "code",
      "execution_count": 88,
      "metadata": {
        "id": "mqOYqV_QEVWY"
      },
      "outputs": [
        {
          "data": {
            "text/html": [
              "<div>\n",
              "<style scoped>\n",
              "    .dataframe tbody tr th:only-of-type {\n",
              "        vertical-align: middle;\n",
              "    }\n",
              "\n",
              "    .dataframe tbody tr th {\n",
              "        vertical-align: top;\n",
              "    }\n",
              "\n",
              "    .dataframe thead th {\n",
              "        text-align: right;\n",
              "    }\n",
              "</style>\n",
              "<table border=\"1\" class=\"dataframe\">\n",
              "  <thead>\n",
              "    <tr style=\"text-align: right;\">\n",
              "      <th></th>\n",
              "      <th>Age</th>\n",
              "      <th>DailyRate</th>\n",
              "      <th>Department</th>\n",
              "      <th>EducationField</th>\n",
              "      <th>Gender</th>\n",
              "      <th>MaritalStatus</th>\n",
              "      <th>MonthlyRate</th>\n",
              "      <th>OverTime</th>\n",
              "      <th>Bonus</th>\n",
              "    </tr>\n",
              "  </thead>\n",
              "  <tbody>\n",
              "    <tr>\n",
              "      <th>0</th>\n",
              "      <td>41</td>\n",
              "      <td>1102</td>\n",
              "      <td>Sales</td>\n",
              "      <td>Life Sciences</td>\n",
              "      <td>Female</td>\n",
              "      <td>Single</td>\n",
              "      <td>19479</td>\n",
              "      <td>Yes</td>\n",
              "      <td>0</td>\n",
              "    </tr>\n",
              "    <tr>\n",
              "      <th>1</th>\n",
              "      <td>49</td>\n",
              "      <td>279</td>\n",
              "      <td>Research &amp; Development</td>\n",
              "      <td>Life Sciences</td>\n",
              "      <td>Male</td>\n",
              "      <td>Married</td>\n",
              "      <td>24907</td>\n",
              "      <td>No</td>\n",
              "      <td>0</td>\n",
              "    </tr>\n",
              "    <tr>\n",
              "      <th>2</th>\n",
              "      <td>37</td>\n",
              "      <td>1373</td>\n",
              "      <td>Research &amp; Development</td>\n",
              "      <td>Other</td>\n",
              "      <td>Male</td>\n",
              "      <td>Single</td>\n",
              "      <td>2396</td>\n",
              "      <td>Yes</td>\n",
              "      <td>0</td>\n",
              "    </tr>\n",
              "    <tr>\n",
              "      <th>3</th>\n",
              "      <td>33</td>\n",
              "      <td>1392</td>\n",
              "      <td>Research &amp; Development</td>\n",
              "      <td>Life Sciences</td>\n",
              "      <td>Female</td>\n",
              "      <td>Married</td>\n",
              "      <td>23159</td>\n",
              "      <td>Yes</td>\n",
              "      <td>0</td>\n",
              "    </tr>\n",
              "    <tr>\n",
              "      <th>4</th>\n",
              "      <td>27</td>\n",
              "      <td>591</td>\n",
              "      <td>Research &amp; Development</td>\n",
              "      <td>Medical</td>\n",
              "      <td>Male</td>\n",
              "      <td>Married</td>\n",
              "      <td>16632</td>\n",
              "      <td>No</td>\n",
              "      <td>0</td>\n",
              "    </tr>\n",
              "    <tr>\n",
              "      <th>...</th>\n",
              "      <td>...</td>\n",
              "      <td>...</td>\n",
              "      <td>...</td>\n",
              "      <td>...</td>\n",
              "      <td>...</td>\n",
              "      <td>...</td>\n",
              "      <td>...</td>\n",
              "      <td>...</td>\n",
              "      <td>...</td>\n",
              "    </tr>\n",
              "    <tr>\n",
              "      <th>1465</th>\n",
              "      <td>36</td>\n",
              "      <td>884</td>\n",
              "      <td>Research &amp; Development</td>\n",
              "      <td>Medical</td>\n",
              "      <td>Male</td>\n",
              "      <td>Married</td>\n",
              "      <td>12290</td>\n",
              "      <td>No</td>\n",
              "      <td>0</td>\n",
              "    </tr>\n",
              "    <tr>\n",
              "      <th>1466</th>\n",
              "      <td>39</td>\n",
              "      <td>613</td>\n",
              "      <td>Research &amp; Development</td>\n",
              "      <td>Medical</td>\n",
              "      <td>Male</td>\n",
              "      <td>Married</td>\n",
              "      <td>21457</td>\n",
              "      <td>No</td>\n",
              "      <td>0</td>\n",
              "    </tr>\n",
              "    <tr>\n",
              "      <th>1467</th>\n",
              "      <td>27</td>\n",
              "      <td>155</td>\n",
              "      <td>Research &amp; Development</td>\n",
              "      <td>Life Sciences</td>\n",
              "      <td>Male</td>\n",
              "      <td>Married</td>\n",
              "      <td>5174</td>\n",
              "      <td>Yes</td>\n",
              "      <td>0</td>\n",
              "    </tr>\n",
              "    <tr>\n",
              "      <th>1468</th>\n",
              "      <td>49</td>\n",
              "      <td>1023</td>\n",
              "      <td>Sales</td>\n",
              "      <td>Medical</td>\n",
              "      <td>Male</td>\n",
              "      <td>Married</td>\n",
              "      <td>13243</td>\n",
              "      <td>No</td>\n",
              "      <td>0</td>\n",
              "    </tr>\n",
              "    <tr>\n",
              "      <th>1469</th>\n",
              "      <td>34</td>\n",
              "      <td>628</td>\n",
              "      <td>Research &amp; Development</td>\n",
              "      <td>Medical</td>\n",
              "      <td>Male</td>\n",
              "      <td>Married</td>\n",
              "      <td>10228</td>\n",
              "      <td>No</td>\n",
              "      <td>0</td>\n",
              "    </tr>\n",
              "  </tbody>\n",
              "</table>\n",
              "<p>1470 rows × 9 columns</p>\n",
              "</div>"
            ],
            "text/plain": [
              "      Age  DailyRate              Department EducationField  Gender  \\\n",
              "0      41       1102                   Sales  Life Sciences  Female   \n",
              "1      49        279  Research & Development  Life Sciences    Male   \n",
              "2      37       1373  Research & Development          Other    Male   \n",
              "3      33       1392  Research & Development  Life Sciences  Female   \n",
              "4      27        591  Research & Development        Medical    Male   \n",
              "...   ...        ...                     ...            ...     ...   \n",
              "1465   36        884  Research & Development        Medical    Male   \n",
              "1466   39        613  Research & Development        Medical    Male   \n",
              "1467   27        155  Research & Development  Life Sciences    Male   \n",
              "1468   49       1023                   Sales        Medical    Male   \n",
              "1469   34        628  Research & Development        Medical    Male   \n",
              "\n",
              "     MaritalStatus  MonthlyRate OverTime  Bonus  \n",
              "0           Single        19479      Yes      0  \n",
              "1          Married        24907       No      0  \n",
              "2           Single         2396      Yes      0  \n",
              "3          Married        23159      Yes      0  \n",
              "4          Married        16632       No      0  \n",
              "...            ...          ...      ...    ...  \n",
              "1465       Married        12290       No      0  \n",
              "1466       Married        21457       No      0  \n",
              "1467       Married         5174      Yes      0  \n",
              "1468       Married        13243       No      0  \n",
              "1469       Married        10228       No      0  \n",
              "\n",
              "[1470 rows x 9 columns]"
            ]
          },
          "execution_count": 88,
          "metadata": {},
          "output_type": "execute_result"
        }
      ],
      "source": [
        "# Add new column call 'Bonus'\n",
        "df['Bonus'] = 0\n",
        "df"
      ]
    },
    {
      "cell_type": "code",
      "execution_count": 89,
      "metadata": {
        "id": "RlswWTzYE3NM"
      },
      "outputs": [],
      "source": [
        "# Calculate 10% of bonus into the 'Bonus' Column\n",
        "df['Bonus'] = 0.1 * df[\"MonthlyRate\"]"
      ]
    },
    {
      "cell_type": "code",
      "execution_count": 90,
      "metadata": {
        "id": "AIVAF977Fdg0"
      },
      "outputs": [
        {
          "data": {
            "text/html": [
              "<div>\n",
              "<style scoped>\n",
              "    .dataframe tbody tr th:only-of-type {\n",
              "        vertical-align: middle;\n",
              "    }\n",
              "\n",
              "    .dataframe tbody tr th {\n",
              "        vertical-align: top;\n",
              "    }\n",
              "\n",
              "    .dataframe thead th {\n",
              "        text-align: right;\n",
              "    }\n",
              "</style>\n",
              "<table border=\"1\" class=\"dataframe\">\n",
              "  <thead>\n",
              "    <tr style=\"text-align: right;\">\n",
              "      <th></th>\n",
              "      <th>Age</th>\n",
              "      <th>DailyRate</th>\n",
              "      <th>Department</th>\n",
              "      <th>EducationField</th>\n",
              "      <th>Gender</th>\n",
              "      <th>MaritalStatus</th>\n",
              "      <th>MonthlyRate</th>\n",
              "      <th>OverTime</th>\n",
              "      <th>Bonus</th>\n",
              "    </tr>\n",
              "  </thead>\n",
              "  <tbody>\n",
              "    <tr>\n",
              "      <th>0</th>\n",
              "      <td>41</td>\n",
              "      <td>1102</td>\n",
              "      <td>Sales</td>\n",
              "      <td>Life Sciences</td>\n",
              "      <td>Female</td>\n",
              "      <td>Single</td>\n",
              "      <td>19479</td>\n",
              "      <td>Yes</td>\n",
              "      <td>1947.9</td>\n",
              "    </tr>\n",
              "    <tr>\n",
              "      <th>1</th>\n",
              "      <td>49</td>\n",
              "      <td>279</td>\n",
              "      <td>Research &amp; Development</td>\n",
              "      <td>Life Sciences</td>\n",
              "      <td>Male</td>\n",
              "      <td>Married</td>\n",
              "      <td>24907</td>\n",
              "      <td>No</td>\n",
              "      <td>2490.7</td>\n",
              "    </tr>\n",
              "    <tr>\n",
              "      <th>2</th>\n",
              "      <td>37</td>\n",
              "      <td>1373</td>\n",
              "      <td>Research &amp; Development</td>\n",
              "      <td>Other</td>\n",
              "      <td>Male</td>\n",
              "      <td>Single</td>\n",
              "      <td>2396</td>\n",
              "      <td>Yes</td>\n",
              "      <td>239.6</td>\n",
              "    </tr>\n",
              "    <tr>\n",
              "      <th>3</th>\n",
              "      <td>33</td>\n",
              "      <td>1392</td>\n",
              "      <td>Research &amp; Development</td>\n",
              "      <td>Life Sciences</td>\n",
              "      <td>Female</td>\n",
              "      <td>Married</td>\n",
              "      <td>23159</td>\n",
              "      <td>Yes</td>\n",
              "      <td>2315.9</td>\n",
              "    </tr>\n",
              "    <tr>\n",
              "      <th>4</th>\n",
              "      <td>27</td>\n",
              "      <td>591</td>\n",
              "      <td>Research &amp; Development</td>\n",
              "      <td>Medical</td>\n",
              "      <td>Male</td>\n",
              "      <td>Married</td>\n",
              "      <td>16632</td>\n",
              "      <td>No</td>\n",
              "      <td>1663.2</td>\n",
              "    </tr>\n",
              "    <tr>\n",
              "      <th>...</th>\n",
              "      <td>...</td>\n",
              "      <td>...</td>\n",
              "      <td>...</td>\n",
              "      <td>...</td>\n",
              "      <td>...</td>\n",
              "      <td>...</td>\n",
              "      <td>...</td>\n",
              "      <td>...</td>\n",
              "      <td>...</td>\n",
              "    </tr>\n",
              "    <tr>\n",
              "      <th>1465</th>\n",
              "      <td>36</td>\n",
              "      <td>884</td>\n",
              "      <td>Research &amp; Development</td>\n",
              "      <td>Medical</td>\n",
              "      <td>Male</td>\n",
              "      <td>Married</td>\n",
              "      <td>12290</td>\n",
              "      <td>No</td>\n",
              "      <td>1229.0</td>\n",
              "    </tr>\n",
              "    <tr>\n",
              "      <th>1466</th>\n",
              "      <td>39</td>\n",
              "      <td>613</td>\n",
              "      <td>Research &amp; Development</td>\n",
              "      <td>Medical</td>\n",
              "      <td>Male</td>\n",
              "      <td>Married</td>\n",
              "      <td>21457</td>\n",
              "      <td>No</td>\n",
              "      <td>2145.7</td>\n",
              "    </tr>\n",
              "    <tr>\n",
              "      <th>1467</th>\n",
              "      <td>27</td>\n",
              "      <td>155</td>\n",
              "      <td>Research &amp; Development</td>\n",
              "      <td>Life Sciences</td>\n",
              "      <td>Male</td>\n",
              "      <td>Married</td>\n",
              "      <td>5174</td>\n",
              "      <td>Yes</td>\n",
              "      <td>517.4</td>\n",
              "    </tr>\n",
              "    <tr>\n",
              "      <th>1468</th>\n",
              "      <td>49</td>\n",
              "      <td>1023</td>\n",
              "      <td>Sales</td>\n",
              "      <td>Medical</td>\n",
              "      <td>Male</td>\n",
              "      <td>Married</td>\n",
              "      <td>13243</td>\n",
              "      <td>No</td>\n",
              "      <td>1324.3</td>\n",
              "    </tr>\n",
              "    <tr>\n",
              "      <th>1469</th>\n",
              "      <td>34</td>\n",
              "      <td>628</td>\n",
              "      <td>Research &amp; Development</td>\n",
              "      <td>Medical</td>\n",
              "      <td>Male</td>\n",
              "      <td>Married</td>\n",
              "      <td>10228</td>\n",
              "      <td>No</td>\n",
              "      <td>1022.8</td>\n",
              "    </tr>\n",
              "  </tbody>\n",
              "</table>\n",
              "<p>1470 rows × 9 columns</p>\n",
              "</div>"
            ],
            "text/plain": [
              "      Age  DailyRate              Department EducationField  Gender  \\\n",
              "0      41       1102                   Sales  Life Sciences  Female   \n",
              "1      49        279  Research & Development  Life Sciences    Male   \n",
              "2      37       1373  Research & Development          Other    Male   \n",
              "3      33       1392  Research & Development  Life Sciences  Female   \n",
              "4      27        591  Research & Development        Medical    Male   \n",
              "...   ...        ...                     ...            ...     ...   \n",
              "1465   36        884  Research & Development        Medical    Male   \n",
              "1466   39        613  Research & Development        Medical    Male   \n",
              "1467   27        155  Research & Development  Life Sciences    Male   \n",
              "1468   49       1023                   Sales        Medical    Male   \n",
              "1469   34        628  Research & Development        Medical    Male   \n",
              "\n",
              "     MaritalStatus  MonthlyRate OverTime   Bonus  \n",
              "0           Single        19479      Yes  1947.9  \n",
              "1          Married        24907       No  2490.7  \n",
              "2           Single         2396      Yes   239.6  \n",
              "3          Married        23159      Yes  2315.9  \n",
              "4          Married        16632       No  1663.2  \n",
              "...            ...          ...      ...     ...  \n",
              "1465       Married        12290       No  1229.0  \n",
              "1466       Married        21457       No  2145.7  \n",
              "1467       Married         5174      Yes   517.4  \n",
              "1468       Married        13243       No  1324.3  \n",
              "1469       Married        10228       No  1022.8  \n",
              "\n",
              "[1470 rows x 9 columns]"
            ]
          },
          "execution_count": 90,
          "metadata": {},
          "output_type": "execute_result"
        }
      ],
      "source": [
        "# Print and show result\n",
        "df"
      ]
    },
    {
      "cell_type": "code",
      "execution_count": 91,
      "metadata": {
        "id": "-kdUJtE1FgEL"
      },
      "outputs": [],
      "source": [
        "# Save the updated DataFrame back to a CSV file\n",
        "df.to_csv('employee_data.csv', index=False)"
      ]
    },
    {
      "cell_type": "markdown",
      "metadata": {
        "id": "siUU4Z19FmTr"
      },
      "source": [
        "# Part 3 : Working with Matplotlib"
      ]
    },
    {
      "cell_type": "markdown",
      "metadata": {
        "id": "5GLA4nYnIURl"
      },
      "source": [
        "Plot a graph showing the average salary of employees in each department to compare the average salaries across departments."
      ]
    },
    {
      "cell_type": "code",
      "execution_count": 92,
      "metadata": {
        "id": "P5-qoxEyIpdN"
      },
      "outputs": [],
      "source": [
        "# Load CSV and create DataFrame\n",
        "data = pd.read_csv('employee_data.csv')\n",
        "df = pd.DataFrame(data)"
      ]
    },
    {
      "cell_type": "code",
      "execution_count": 93,
      "metadata": {
        "id": "HtYFO0xPIt1a"
      },
      "outputs": [
        {
          "name": "stdout",
          "output_type": "stream",
          "text": [
            "Department\n",
            "Human Resources           13492.984127\n",
            "Research & Development    14284.865765\n",
            "Sales                     14489.793722\n",
            "Name: MonthlyRate, dtype: float64\n"
          ]
        }
      ],
      "source": [
        "# Calculate average MonthlyRate by Department\n",
        "avg_monthlyrate = df.groupby(\"Department\")[\"MonthlyRate\"].mean()\n",
        "print(avg_monthlyrate)\n"
      ]
    },
    {
      "cell_type": "code",
      "execution_count": 94,
      "metadata": {
        "id": "d9RgD_DmIwCp"
      },
      "outputs": [
        {
          "data": {
            "text/plain": [
              "(array([0, 1, 2]),\n",
              " [Text(0, 0, 'Human Resources'),\n",
              "  Text(1, 0, 'Research & Development'),\n",
              "  Text(2, 0, 'Sales')])"
            ]
          },
          "execution_count": 94,
          "metadata": {},
          "output_type": "execute_result"
        },
        {
          "data": {
            "image/png": "[encoded data removed]",
            "text/plain": [
              "<Figure size 1000x500 with 1 Axes>"
            ]
          },
          "metadata": {},
          "output_type": "display_data"
        }
      ],
      "source": [
        "# Plotting the bar chart\n",
        "plt.figure(figsize=(10, 5))\n",
        "avg_monthlyrate.plot(kind=\"bar\", color=\"skyblue\", edgecolor=\"black\")\n",
        "plt.xticks(rotation=45)\n"
      ]
    },
    {
      "cell_type": "markdown",
      "metadata": {
        "id": "Ha13UaGfI2E1"
      },
      "source": [
        "# Challenge!!! : Working with SATAN (Optional)"
      ]
    },
    {
      "cell_type": "markdown",
      "metadata": {
        "id": "3dR3-jHjJKPy"
      },
      "source": [
        "Great job, for not giving up on this subject!\n",
        "\n",
        "<div>\n",
        "<img src=\"https://media2.giphy.com/media/ErZ8hv5eO92JW/200.gif?cid=6c09b952k9ykzx0na1tsrm5sa0gb4m4z39w5z6z65u05oohs&ep=v1_gifs_search&rid=200.gif&ct=g\" width=\"500\"/>\n",
        "</div>\n"
      ]
    },
    {
      "cell_type": "markdown",
      "metadata": {
        "id": "Dk_GINWZJ_M0"
      },
      "source": [
        "Here’s the story: The CSV file that was given to you isn’t just an ordinary file -- it’s data from an organization where Alya-San works!\n",
        "\n",
        "<div>\n",
        "<img src=\"https://preview.redd.it/all-hail-alya-v0-8tiwrh5d3b3e1.jpeg?auto=webp&s=f22e38e7544697d75f2264f005504e5eb81a9721\" width=\"500\"/>\n",
        "</div>"
      ]
    },
    {
      "cell_type": "markdown",
      "metadata": {
        "id": "r8tMZ0nsLvKm"
      },
      "source": [
        "Alya feels that something suspicious is going on within the company. She suspects that there’s inequality in salaries between male and female employees.\n",
        "\n",
        "She also wonders if the government might be intervening to encourage population growth by secretly increasing the salaries of married employees compared to those who are single.\n",
        "\n",
        "Additionally, how much of a difference is there in salaries between employees who graduated from different fields of study?\n",
        "\n",
        "Can you help Alya prove whether her suspicions are just in her head or if they’re actually true?\n",
        "\n",
        "For Aria, everyone is truly **e q u a l**."
      ]
    },
    {
      "cell_type": "code",
      "execution_count": 95,
      "metadata": {
        "id": "SUghYHDpJAHm"
      },
      "outputs": [
        {
          "name": "stdout",
          "output_type": "stream",
          "text": [
            "Gender\n",
            "Female    14674.600340\n",
            "Male      14072.105442\n",
            "Name: MonthlyRate, dtype: float64\n",
            "MaritalStatus\n",
            "Divorced    14310.085627\n",
            "Married     14044.502229\n",
            "Single      14699.817021\n",
            "Name: MonthlyRate, dtype: float64\n",
            "EducationField\n",
            "Human Resources     14810.740741\n",
            "Life Sciences       14530.132013\n",
            "Marketing           14076.943396\n",
            "Medical             14295.056034\n",
            "Other               13270.780488\n",
            "Technical Degree    14210.363636\n",
            "Name: MonthlyRate, dtype: float64\n"
          ]
        }
      ],
      "source": [
        "# Implement code here\n",
        "avg_monthlyrate_gender = df.groupby(\"Gender\")[\"MonthlyRate\"].mean()\n",
        "avg_monthlyrate_maritalstatus = df.groupby(\"MaritalStatus\")[\"MonthlyRate\"].mean()\n",
        "avg_monthlyrate_educationfield = df.groupby(\"EducationField\")[\"MonthlyRate\"].mean()\n",
        "print(avg_monthlyrate_gender)\n",
        "print(avg_monthlyrate_maritalstatus)\n",
        "print(avg_monthlyrate_educationfield)"
      ]
    },
    {
      "cell_type": "markdown",
      "metadata": {
        "id": "M51Bo6B6M0XU"
      },
      "source": [
        "Since Kobayashi-san will be reviewing your code, please present the data in a way that is clear and accurate. Otherwise, Kobayashi-san might fire you from the company!\n",
        "\n",
        "<div>\n",
        "<img src=\"https://i.redd.it/gwmyhe5g0av71.gif\" width=\"500\"/>\n",
        "</div>"
      ]
    },
    {
      "cell_type": "code",
      "execution_count": 96,
      "metadata": {
        "id": "lKhIrmWxNbot"
      },
      "outputs": [
        {
          "data": {
            "image/png": "[encoded data removed]",
            "text/plain": [
              "<Figure size 1800x600 with 3 Axes>"
            ]
          },
          "metadata": {},
          "output_type": "display_data"
        },
        {
          "name": "stdout",
          "output_type": "stream",
          "text": [
            "\n",
            "The different in percent between min and max average monthlyrate in each group\n",
            "Gender: 4.28%\n",
            "Marital Status: 4.67%\n",
            "Education Field: 11.60%\n"
          ]
        }
      ],
      "source": [
        "plt.figure(figsize=(18, 6))\n",
        "\n",
        "# Plotting the bar chart for Gender\n",
        "plt.subplot(1, 3, 1)\n",
        "avg_monthlyrate_gender.plot(kind='bar', color='skyblue')\n",
        "plt.title('Average Monthly Rate by Gender')\n",
        "plt.ylabel('Average Monthly Rate')\n",
        "plt.xticks(rotation=45)  # Keeps the x-axis labels horizontal\n",
        "for bar in plt.gca().patches:\n",
        "    plt.text(bar.get_x() + bar.get_width() / 2, bar.get_height(), round(bar.get_height(), 2), ha='center', color='black')\n",
        "\n",
        "# Plotting the bar chart for Marital Status\n",
        "plt.subplot(1, 3, 2)\n",
        "avg_monthlyrate_maritalstatus.plot(kind='bar', color='salmon')\n",
        "plt.title('Average Monthly Rate by Marital Status')\n",
        "plt.ylabel('Average Monthly Rate')\n",
        "plt.xticks(rotation=45)\n",
        "for bar in plt.gca().patches:\n",
        "    plt.text(bar.get_x() + bar.get_width() / 2, bar.get_height(), round(bar.get_height(), 2), ha='center', color='black')\n",
        "\n",
        "# Plotting the bar chart for Education Field\n",
        "plt.subplot(1, 3, 3)\n",
        "avg_monthlyrate_educationfield.plot(kind='bar', color='lightgreen')\n",
        "plt.title('Average Monthly Rate by Education Field')\n",
        "plt.ylabel('Average Monthly Rate')\n",
        "plt.xticks(rotation=45)  \n",
        "for bar in plt.gca().patches:\n",
        "    plt.text(bar.get_x() + bar.get_width() / 2, bar.get_height(), round(bar.get_height(), 2), ha='center', color='black')\n",
        "\n",
        "# Adjust the layout for better space distribution\n",
        "plt.tight_layout()\n",
        "plt.show()\n",
        "\n",
        "# Calculate percentage difference in average income rate (min-max) \n",
        "gender_diff = (avg_monthlyrate_gender.max() - avg_monthlyrate_gender.min()) / avg_monthlyrate_gender.min() * 100\n",
        "marital_status_diff = (avg_monthlyrate_maritalstatus.max() - avg_monthlyrate_maritalstatus.min()) / avg_monthlyrate_maritalstatus.min() * 100\n",
        "education_field_diff = (avg_monthlyrate_educationfield.max() - avg_monthlyrate_educationfield.min()) / avg_monthlyrate_educationfield.min() * 100\n",
        "\n",
        "print(\"\\nThe different in percent between min and max average monthlyrate in each group\")\n",
        "print(f\"Gender: {gender_diff:.2f}%\")\n",
        "print(f\"Marital Status: {marital_status_diff:.2f}%\")\n",
        "print(f\"Education Field: {education_field_diff:.2f}%\")"
      ]
    },
    {
      "cell_type": "markdown",
      "metadata": {},
      "source": [
        "The gender bar chart shows the income difference (4.28%), with Females earning slightly more than Male. The marital status bar chart shows that Singles have the highest income, followed by Divorced, and finally Married employees earning the least (with a 4.67% difference).The education field bar chart highlights the largest disparity (11.60%), with HR employees earning the highest and Other fields earning the lowest."
      ]
    }
  ],
  "metadata": {
    "colab": {
      "provenance": [],
      "toc_visible": true
    },
    "kernelspec": {
      "display_name": "Python 3",
      "language": "python",
      "name": "python3"
    },
    "language_info": {
      "codemirror_mode": {
        "name": "ipython",
        "version": 3
      },
      "file_extension": ".py",
      "mimetype": "text/x-python",
      "name": "python",
      "nbconvert_exporter": "python",
      "pygments_lexer": "ipython3",
      "version": "3.12.5"
    }
  },
  "nbformat": 4,
  "nbformat_minor": 0
}
